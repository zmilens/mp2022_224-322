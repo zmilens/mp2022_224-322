{
 "cells": [
  {
   "cell_type": "code",
   "execution_count": 1,
   "metadata": {},
   "outputs": [
    {
     "name": "stdout",
     "output_type": "stream",
     "text": [
      "[7, 6, 2, 3, 5, 4, 0, 8, 1, 9]\n"
     ]
    }
   ],
   "source": [
    "import random\n",
    "#смешивает элементы списка\n",
    "numbers  = list(range(10))\n",
    "random.shuffle(numbers)\n",
    "print(numbers)"
   ]
  },
  {
   "cell_type": "markdown",
   "metadata": {},
   "source": [
    "# HW:\n"
   ]
  },
  {
   "cell_type": "code",
   "execution_count": 2,
   "metadata": {},
   "outputs": [
    {
     "name": "stdout",
     "output_type": "stream",
     "text": [
      "6\n"
     ]
    }
   ],
   "source": [
    "#Выбор случайного элемента из списка \n",
    "list = ['hi', 2, 4, 56, 6, 'list', 'world']\n",
    "print(random.choice(list))"
   ]
  },
  {
   "cell_type": "code",
   "execution_count": 10,
   "metadata": {},
   "outputs": [
    {
     "name": "stdout",
     "output_type": "stream",
     "text": [
      "20.833886681316976\n"
     ]
    }
   ],
   "source": [
    "\n",
    "#Число с плавающей точкой в пределах заданного промежутка\n",
    "print(random.uniform(1.2, 35.6))"
   ]
  },
  {
   "cell_type": "code",
   "execution_count": 3,
   "metadata": {},
   "outputs": [
    {
     "name": "stdout",
     "output_type": "stream",
     "text": [
      "[2, 7, 0, 9, 5]\n"
     ]
    }
   ],
   "source": [
    "# Выбрать несколько элементов из заданной последовательности\n",
    "\n",
    "print(random.sample(range(10), 5))"
   ]
  },
  {
   "cell_type": "code",
   "execution_count": 18,
   "metadata": {},
   "outputs": [
    {
     "name": "stdout",
     "output_type": "stream",
     "text": [
      "13\n"
     ]
    }
   ],
   "source": [
    "# Генерация случайного целого числа \n",
    "\n",
    "print(random.randrange(10, 100))"
   ]
  }
 ],
 "metadata": {
  "kernelspec": {
   "display_name": "Python 3.9.1 64-bit",
   "language": "python",
   "name": "python3"
  },
  "language_info": {
   "codemirror_mode": {
    "name": "ipython",
    "version": 3
   },
   "file_extension": ".py",
   "mimetype": "text/x-python",
   "name": "python",
   "nbconvert_exporter": "python",
   "pygments_lexer": "ipython3",
   "version": "3.9.1"
  },
  "orig_nbformat": 4,
  "vscode": {
   "interpreter": {
    "hash": "41d7f60971bc7c2bd4e74a46c827e54b459164d2f57a3506d3f2b97ef047489e"
   }
  }
 },
 "nbformat": 4,
 "nbformat_minor": 2
}
