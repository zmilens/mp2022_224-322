{
 "cells": [
  {
   "cell_type": "code",
   "execution_count": 25,
   "metadata": {},
   "outputs": [
    {
     "name": "stdout",
     "output_type": "stream",
     "text": [
      "a b c d e f g h i j k l m n o p q r s t u v w x y z\n",
      "z y x w v u t s r q p o n m l k j i h g f e d c b a\n"
     ]
    }
   ],
   "source": [
    "import string\n",
    "# 1\n",
    "alphabet = list(string.ascii_lowercase)\n",
    "print(*alphabet)\n",
    "alphabet.reverse()\n",
    "print(*alphabet)"
   ]
  },
  {
   "cell_type": "code",
   "execution_count": 38,
   "metadata": {},
   "outputs": [
    {
     "name": "stdout",
     "output_type": "stream",
     "text": [
      "а б в г д е ж з и й к л м н о п р с т у ф х ц ч ш щ ъ ы ь э ю я\n",
      "я ю э ь ы ъ щ ш ч ц х ф у т с р п о н м л к й и з ж е д г в б а\n"
     ]
    }
   ],
   "source": [
    "#2\n",
    "ru = ''\n",
    "for i in range(ord('а'), ord('я')+1):\n",
    "    ru += chr(i)\n",
    "\n",
    "alphabetRu = list(ru)\n",
    "print(*alphabetRu)\n",
    "alphabetRu.reverse()\n",
    "print(*alphabetRu)\n",
    "    "
   ]
  },
  {
   "cell_type": "code",
   "execution_count": null,
   "metadata": {},
   "outputs": [],
   "source": []
  }
 ],
 "metadata": {
  "kernelspec": {
   "display_name": "Python 3.11.0 64-bit",
   "language": "python",
   "name": "python3"
  },
  "language_info": {
   "codemirror_mode": {
    "name": "ipython",
    "version": 3
   },
   "file_extension": ".py",
   "mimetype": "text/x-python",
   "name": "python",
   "nbconvert_exporter": "python",
   "pygments_lexer": "ipython3",
   "version": "3.11.0"
  },
  "orig_nbformat": 4,
  "vscode": {
   "interpreter": {
    "hash": "b38d74767bf82359278de0529abd3a8b3b1b443bbccb9ad2348cf9d95640295e"
   }
  }
 },
 "nbformat": 4,
 "nbformat_minor": 2
}
